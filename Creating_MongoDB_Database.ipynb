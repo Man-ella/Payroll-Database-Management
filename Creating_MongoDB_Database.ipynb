{
 "cells": [
  {
   "cell_type": "code",
   "execution_count": 77,
   "id": "d28055b0",
   "metadata": {},
   "outputs": [],
   "source": [
    "import pymongo\n",
    "from pymongo import MongoClient\n",
    "from sqlalchemy import create_engine, MetaData, Table\n",
    "from sqlalchemy.orm import sessionmaker\n",
    "import pandas as pd\n",
    "import decimal\n",
    "import json"
   ]
  },
  {
   "cell_type": "code",
   "execution_count": 78,
   "id": "50a58ce8",
   "metadata": {},
   "outputs": [],
   "source": [
    "client = MongoClient('localhost', 27017)"
   ]
  },
  {
   "cell_type": "code",
   "execution_count": 79,
   "id": "372c8f11",
   "metadata": {},
   "outputs": [],
   "source": [
    "db = client.zams"
   ]
  },
  {
   "cell_type": "code",
   "execution_count": 80,
   "id": "e061d8c2",
   "metadata": {},
   "outputs": [
    {
     "data": {
      "text/plain": [
       "Database(MongoClient(host=['localhost:27017'], document_class=dict, tz_aware=False, connect=True), 'zams')"
      ]
     },
     "execution_count": 80,
     "metadata": {},
     "output_type": "execute_result"
    }
   ],
   "source": [
    "db"
   ]
  },
  {
   "cell_type": "code",
   "execution_count": 81,
   "id": "53553c23",
   "metadata": {},
   "outputs": [],
   "source": [
    "collection = db.employees"
   ]
  },
  {
   "cell_type": "code",
   "execution_count": 82,
   "id": "f97ce429",
   "metadata": {},
   "outputs": [
    {
     "data": {
      "text/plain": [
       "Collection(Database(MongoClient(host=['localhost:27017'], document_class=dict, tz_aware=False, connect=True), 'zams'), 'employees')"
      ]
     },
     "execution_count": 82,
     "metadata": {},
     "output_type": "execute_result"
    }
   ],
   "source": [
    "collection"
   ]
  },
  {
   "cell_type": "code",
   "execution_count": 83,
   "id": "7b122a15",
   "metadata": {},
   "outputs": [],
   "source": [
    "password = 'insert your password' #replace with your password\n",
    "db_name = 'zams'"
   ]
  },
  {
   "cell_type": "code",
   "execution_count": 84,
   "id": "1b19563e",
   "metadata": {},
   "outputs": [],
   "source": [
    "#connecting to MySQL database\n",
    "engine = create_engine(\"mysql+pymysql://root:\" + password + \"@localhost:3306/\" + db_name)\n",
    "Session = sessionmaker(bind=engine)\n",
    "session = Session()"
   ]
  },
  {
   "cell_type": "code",
   "execution_count": 85,
   "id": "2ce83884",
   "metadata": {},
   "outputs": [],
   "source": [
    "# Creating SQLAlchemy tables\n",
    "employees_table = Table('employees', MetaData(), autoload_with=engine)\n",
    "departments_table = Table('departments', MetaData(), autoload_with=engine)\n",
    "salaries_table = Table('salaries', MetaData(), autoload_with=engine)\n",
    "taxes_table = Table('taxes', MetaData(), autoload_with=engine)"
   ]
  },
  {
   "cell_type": "code",
   "execution_count": 86,
   "id": "4ff1a9dd",
   "metadata": {},
   "outputs": [],
   "source": [
    "#Querying data from MySQL\n",
    "employees = session.query(employees_table).all()"
   ]
  },
  {
   "cell_type": "code",
   "execution_count": 88,
   "id": "c8969a9b",
   "metadata": {},
   "outputs": [],
   "source": [
    "# Iterating through employees and merging related information\n",
    "for emp in employees:\n",
    "    employee_doc = {\n",
    "        \"_id\": emp.Employee_ID,\n",
    "        \"first_name\": emp.First_Name,\n",
    "        \"last_name\": emp.Last_Name,\n",
    "        \"hire_date\": emp.Hire_Date,\n",
    "        \"birth_date\": emp.Birth_Date,\n",
    "        \"email\": emp.Email,\n",
    "        \"phone\": emp.Phone,\n",
    "        \"address\": emp.Address,\n",
    "        \"department\": {},\n",
    "        \"salaries\": [], #adding array of salaries that each represent a given pay cycle\n",
    "        \"taxes\": {}\n",
    "    }\n",
    "    \n",
    "    # Querying department table\n",
    "    department = session.query(departments_table).filter_by(Depart_ID=emp.Depart_ID).first()\n",
    "    employee_doc[\"department\"] = {\n",
    "        \"department_id\": department.Depart_ID,\n",
    "        \"department_name\": department.Depart_Name,\n",
    "        \"floor\": department.Floor,\n",
    "        \"year_established\": department.Year_Established,\n",
    "        \"budget_millions\": department.Budget_millions,\n",
    "        \"size\": department.Size,\n",
    "        \"department_head\": department.Depart_Head,\n",
    "        \"primary_function\": department.Primary_Func\n",
    "    }\n",
    "    \n",
    "    # Querying salary information for multiple months\n",
    "    salaries = session.query(salaries_table).filter_by(Employee_ID=emp.Employee_ID).all()\n",
    "    for salary in salaries:\n",
    "        # Converting Decimal values to float since MongoDB can't handle the decimal data type\n",
    "        salary_data = {\n",
    "            \"salary_id\": salary.Salary_ID,\n",
    "            \"pay_date\": salary.Pay_Date,\n",
    "            \"total_work_time\": float(salary.Total_Work_Time),\n",
    "            \"base_salary_rate\": float(salary.Base_Salary_Rate),\n",
    "            \"overtime_rate\": float(salary.Overtime_Rate),\n",
    "            \"quarterly_bonus\": float(salary.Quarterly_Bonus),\n",
    "            \"gross_pay\": float(salary.Gross_Pay),\n",
    "            \"tax_deduction\": float(salary.Tax_Deduction),\n",
    "            \"social_security_deduction\": float(salary.SocialSecurity_Deduction),\n",
    "            \"payment_method\": salary.Payment_Method\n",
    "        }\n",
    "        employee_doc[\"salaries\"].append(salary_data)\n",
    "    \n",
    "    # Querying tax information for each employee\n",
    "    tax = session.query(taxes_table).filter_by(Employee_ID=emp.Employee_ID).first()\n",
    "    if tax:\n",
    "        # Convert Decimal values to float again\n",
    "        tax_data = {\n",
    "            \"tax_id\": tax.Tax_ID,\n",
    "            \"fed_tax_rate\": float(tax.FedTax_Rate),\n",
    "            \"state_tax_rate\": float(tax.StateTax_Rate),\n",
    "            \"fed_withhold\": float(tax.Fed_Withhold),\n",
    "            \"state_withhold\": float(tax.State_Withhold),\n",
    "            \"social_security_tax\": float(tax.SocialSecuity_Tax),\n",
    "            \"med_tax\": float(tax.Med_Tax),\n",
    "            \"exemption\": float(tax.Exemption),\n",
    "            \"total_tax_deduction\": float(tax.Total_Tax_Deduction),\n",
    "            \"overall_deduction\": float(tax.Overall_Deduction)\n",
    "        }\n",
    "        employee_doc[\"taxes\"] = tax_data\n",
    "        \n",
    "    \n",
    "    # Insert the nested document into the MongoDB collection\n",
    "    collection.insert_one(employee_doc)\n",
    "\n",
    "# Close connections\n",
    "# session.close()\n",
    "# client.close()"
   ]
  },
  {
   "cell_type": "code",
   "execution_count": null,
   "id": "19b216f5",
   "metadata": {},
   "outputs": [],
   "source": []
  }
 ],
 "metadata": {
  "kernelspec": {
   "display_name": "Python 3 (ipykernel)",
   "language": "python",
   "name": "python3"
  },
  "language_info": {
   "codemirror_mode": {
    "name": "ipython",
    "version": 3
   },
   "file_extension": ".py",
   "mimetype": "text/x-python",
   "name": "python",
   "nbconvert_exporter": "python",
   "pygments_lexer": "ipython3",
   "version": "3.9.13"
  }
 },
 "nbformat": 4,
 "nbformat_minor": 5
}
